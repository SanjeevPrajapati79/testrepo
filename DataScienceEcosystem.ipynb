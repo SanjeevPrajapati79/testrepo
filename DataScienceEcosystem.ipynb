{
 "cells": [
  {
   "cell_type": "markdown",
   "id": "1c571318-7428-43d5-ab5f-84427742a1b6",
   "metadata": {},
   "source": [
    "Data Science Tools and Ecosystem"
   ]
  },
  {
   "cell_type": "markdown",
   "id": "54b5da4c-68c4-47d1-b8c4-d78cb1df0521",
   "metadata": {},
   "source": [
    "In this notebook, Data Science Tools and Ecosystem are summarized."
   ]
  },
  {
   "cell_type": "raw",
   "id": "778189c7-12ec-4c13-a50b-9ecedc2932b7",
   "metadata": {},
   "source": [
    "Some of the popular languages that Data Scientists use are:\n",
    "\n",
    "1.) Python\n",
    "2.) R\n",
    "3.) Julia"
   ]
  },
  {
   "cell_type": "raw",
   "id": "e6b665af-8dff-4f54-bc93-88b1a911c4f8",
   "metadata": {},
   "source": [
    "Some of the commonly used libraries used by Data Scientists include:\n",
    "\n",
    "1.) Numpy\n",
    "2.) Pandas\n",
    "3.) Matplotlib\n",
    "4.) Scikit-learn"
   ]
  },
  {
   "cell_type": "raw",
   "id": "6747df5a-ada8-4d29-a5d2-d2ddd8237117",
   "metadata": {},
   "source": [
    "Data Science Tools :\n",
    "\n",
    "1.) Jupyter-notebook\n",
    "2.) R Studio\n",
    "3.) Google Colab"
   ]
  },
  {
   "cell_type": "markdown",
   "id": "0f3d6ccb-58a3-4db4-95d6-40e85705c7fd",
   "metadata": {},
   "source": [
    "Below are a few examples of evaluating arithmetic expressions in Python"
   ]
  },
  {
   "cell_type": "code",
   "execution_count": 1,
   "id": "c171fde5-b0da-4bc6-9625-9562abeec216",
   "metadata": {
    "tags": []
   },
   "outputs": [
    {
     "data": {
      "text/plain": [
       "33"
      ]
     },
     "execution_count": 1,
     "metadata": {},
     "output_type": "execute_result"
    }
   ],
   "source": [
    "10+23"
   ]
  },
  {
   "cell_type": "code",
   "execution_count": 2,
   "id": "048d56d6-a7d1-4d1b-b27a-fa22d98fd13a",
   "metadata": {
    "tags": []
   },
   "outputs": [
    {
     "data": {
      "text/plain": [
       "340"
      ]
     },
     "execution_count": 2,
     "metadata": {},
     "output_type": "execute_result"
    }
   ],
   "source": [
    "10*34"
   ]
  },
  {
   "cell_type": "code",
   "execution_count": 3,
   "id": "9f7f5dce-088f-4b7a-99ca-d5de86549bdd",
   "metadata": {
    "tags": []
   },
   "outputs": [
    {
     "data": {
      "text/plain": [
       "11.5"
      ]
     },
     "execution_count": 3,
     "metadata": {},
     "output_type": "execute_result"
    }
   ],
   "source": [
    "23/2"
   ]
  },
  {
   "cell_type": "code",
   "execution_count": 4,
   "id": "8e3283b8-0ef7-4ae7-b6ad-44cc5f10919b",
   "metadata": {
    "tags": []
   },
   "outputs": [
    {
     "data": {
      "text/plain": [
       "11"
      ]
     },
     "execution_count": 4,
     "metadata": {},
     "output_type": "execute_result"
    }
   ],
   "source": [
    "45-34"
   ]
  },
  {
   "cell_type": "code",
   "execution_count": 5,
   "id": "c2a36b2b-0ed2-4a2a-805a-5ec56d2ca303",
   "metadata": {
    "tags": []
   },
   "outputs": [
    {
     "data": {
      "text/plain": [
       "17"
      ]
     },
     "execution_count": 5,
     "metadata": {},
     "output_type": "execute_result"
    }
   ],
   "source": [
    "(3*4)+5"
   ]
  },
  {
   "cell_type": "markdown",
   "id": "8459312a-e26c-4fc6-997e-06c2be68ded9",
   "metadata": {},
   "source": [
    "Create a code cell to convert minutes to hours"
   ]
  },
  {
   "cell_type": "code",
   "execution_count": 6,
   "id": "45b8b1d9-5fcc-490e-8cb4-c7fce1eaa392",
   "metadata": {
    "tags": []
   },
   "outputs": [],
   "source": [
    "#This will convert 200 minutes to hours by diving by 60"
   ]
  },
  {
   "cell_type": "code",
   "execution_count": 7,
   "id": "9f78042f-1900-4de4-956b-408fd0d5365b",
   "metadata": {
    "tags": []
   },
   "outputs": [
    {
     "data": {
      "text/plain": [
       "3.3333333333333335"
      ]
     },
     "execution_count": 7,
     "metadata": {},
     "output_type": "execute_result"
    }
   ],
   "source": [
    "200/60"
   ]
  },
  {
   "cell_type": "markdown",
   "id": "9f3dafa6-b241-4af7-a69d-0fdd12978c38",
   "metadata": {},
   "source": [
    " Insert a markdown cell to list Objectives"
   ]
  },
  {
   "cell_type": "raw",
   "id": "d08e3d0c-cc72-47c3-9717-feeee5698bb6",
   "metadata": {},
   "source": [
    "Objectives:\n",
    " . List for Data Science languages\n",
    " . List for Data Science Tools\n",
    " . List of Data Science Library"
   ]
  },
  {
   "cell_type": "markdown",
   "id": "5cc0ea3f-5d6c-4388-9274-d1e2373cdc5f",
   "metadata": {},
   "source": [
    "Author"
   ]
  },
  {
   "cell_type": "raw",
   "id": "34c03a8d-10c2-4c81-920a-004e3fe7973f",
   "metadata": {},
   "source": [
    "Sanjeev Kumar Prajapati"
   ]
  },
  {
   "cell_type": "code",
   "execution_count": null,
   "id": "ba65bba8-432b-4de9-8d9f-982df59efb35",
   "metadata": {},
   "outputs": [],
   "source": []
  }
 ],
 "metadata": {
  "kernelspec": {
   "display_name": "Python",
   "language": "python",
   "name": "conda-env-python-py"
  },
  "language_info": {
   "codemirror_mode": {
    "name": "ipython",
    "version": 3
   },
   "file_extension": ".py",
   "mimetype": "text/x-python",
   "name": "python",
   "nbconvert_exporter": "python",
   "pygments_lexer": "ipython3",
   "version": "3.7.12"
  }
 },
 "nbformat": 4,
 "nbformat_minor": 5
}
